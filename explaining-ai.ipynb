{
 "cells": [
  {
   "attachments": {},
   "cell_type": "markdown",
   "metadata": {},
   "source": [
    "# Explaining AI\n",
    "\n",
    "## Natural Language Processing Models\n",
    "\n",
    "https://lena-voita.github.io/nlp_course.html\n",
    "\n",
    "https://platform.openai.com/overview\n",
    "\n",
    "https://www.bionity.com/de/news/1178113/menschliche-gehirnzellen-in-einer-schale-lernen-pong-zu-spielen.html\n",
    "\n",
    "## XOR Gates & die Grenzen heutiger KI's\n",
    "\n",
    "https://www.youtube.com/watch?v=hmtQPrH-gC4&t=1069s\n",
    "\n",
    "https://www.sciencedirect.com/science/article/abs/pii/S0306452222001208\n",
    "\n",
    "https://www.sciencedirect.com/science/article/pii/S0896627321007170\n",
    "\n",
    "## Other Things\n",
    "\n",
    "https://www.researchgate.net/profile/Girish-Jha/publication/228906616_Artificial_Neural_Networks_and_Its_Applications/links/53f48ce10cf22be01c3ecd60/Artificial-Neural-Networks-and-Its-Applications.pdf\n",
    "\n",
    "https://medium.com/analytics-vidhya/coding-a-neural-network-for-xor-logic-classifier-from-scratch-b90543648e8a\n",
    "\n",
    "https://www.heise.de/news/KI-erzeugt-nonstop-Death-Metal-4404000.html \n",
    "\n",
    "https://babelia.libraryofbabel.info\n",
    "\n",
    "https://www.zeit.de/digital/datenschutz/2016-10/google-kuenstliche-intelligenz-erfindet-eigene-verschluesselung?utm_referrer=https%3A%2F%2Fwww.google.com%2F\n",
    "\n",
    "https://www.i-am.ai/we-need-to-talk-ai.html\n",
    "\n",
    "https://uncannyvalues.org/\n",
    "\n",
    "https://www.kunstmuseum-stuttgart.de/ausstellungen/shift\n",
    "\n",
    "http://www.louisa-clement.de/"
   ]
  },
  {
   "attachments": {},
   "cell_type": "markdown",
   "metadata": {},
   "source": [
    "$$ \\min_D \\max_G E_x [\\log(D(x))] + E_\\zeta [\\log(1- D(G(\\zeta)))]$$\n",
    "\n",
    "<a href=\"https://commons.wikimedia.org/wiki/File:Edmond_de_Belamy.png#/media/Datei:Edmond_de_Belamy.png\"><img src=\"https://upload.wikimedia.org/wikipedia/commons/thumb/c/c1/Edmond_de_Belamy.png/1200px-Edmond_de_Belamy.png\" width=600px alt=\"Edmond de Belamy.png\"></a>"
   ]
  },
  {
   "attachments": {},
   "cell_type": "markdown",
   "metadata": {},
   "source": [
    "# Artifical Identity\n",
    "\n",
    "-> Daten werden in einer (Sub-)Kultur erschaffen\n",
    "-> Daten implizieren Narrativ\n",
    "-> Narrativ der Trainingsdaten wirkt sich auf die KI aus\n",
    "-> Daher Identitätsbildungsprozess\n",
    "-> Argument der vermeintlichen \"Elite\", welche die KI böse machen, ist hinfällig\n",
    "-> Gesellschaft erzeugt das Bild der schlechten KI\n",
    "-> KI daher eine Identität mit Gesellschaftlich ungewollten Eigenschaften"
   ]
  }
 ],
 "metadata": {
  "kernelspec": {
   "display_name": "Python 3.10.4 64-bit",
   "language": "python",
   "name": "python3"
  },
  "language_info": {
   "codemirror_mode": {
    "name": "ipython",
    "version": 3
   },
   "file_extension": ".py",
   "mimetype": "text/x-python",
   "name": "python",
   "nbconvert_exporter": "python",
   "pygments_lexer": "ipython3",
   "version": "3.10.4"
  },
  "vscode": {
   "interpreter": {
    "hash": "3ad933181bd8a04b432d3370b9dc3b0662ad032c4dfaa4e4f1596c548f763858"
   }
  }
 },
 "nbformat": 4,
 "nbformat_minor": 4
}
